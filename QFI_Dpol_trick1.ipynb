{
 "cells": [
  {
   "cell_type": "code",
   "execution_count": 3,
   "id": "30d887dd-e19c-449c-a106-d27be09c1340",
   "metadata": {},
   "outputs": [],
   "source": [
    "import pennylane as qml\n",
    "from pennylane import numpy as np\n",
    "import matplotlib as mpl\n",
    "import matplotlib.pyplot as plt \n",
    "# Define the device\n",
    "dev = qml.device('default.mixed', wires=2)\n"
   ]
  },
  {
   "cell_type": "code",
   "execution_count": 4,
   "id": "08efd02e-76df-4320-a88d-2703ec46b9bc",
   "metadata": {},
   "outputs": [],
   "source": [
    "x = np.array([np.pi])\n",
    "Phi=2*np.arccos(np.sqrt((1-np.sin(x))/2))"
   ]
  },
  {
   "cell_type": "code",
   "execution_count": 5,
   "id": "4444344a-8b1c-428e-9008-ef87d4513b54",
   "metadata": {},
   "outputs": [],
   "source": [
    "@qml.qnode(dev,diff_method=\"backprop\")\n",
    "def circuit(x,p,params):\n",
    "    qml.RY(x,wires=0)\n",
    "    qml.U3(params[0],params[1],params[2],wires=0)\n",
    "    qml.U3(params[3],params[4],params[5],wires=1)\n",
    "    qml.CNOT(wires=[1,0])\n",
    "    qml.RZ(params[6],wires=0)\n",
    "    qml.RY(params[7],wires=1)\n",
    "    qml.CNOT(wires=[0,1])\n",
    "    qml.RY(params[8],wires=1)\n",
    "    qml.CNOT(wires=[1,0])\n",
    "    qml.U3(params[9],params[10],params[11],wires=0)\n",
    "    qml.U3(params[12],params[13],params[14],wires=1)\n",
    "    \n",
    "    qml.DepolarizingChannel(1-p,wires=0)\n",
    "    qml.DepolarizingChannel(1-p,wires=1)\n",
    "\n",
    "   \n",
    "\n",
    "    return qml.density_matrix(wires=[0,1])\n"
   ]
  },
  {
   "cell_type": "code",
   "execution_count": 6,
   "id": "df13171d-567b-4fa2-a4a1-e36a3ca4651e",
   "metadata": {},
   "outputs": [],
   "source": [
    "@qml.qnode(dev,diff_method=\"backprop\")\n",
    "def circuit1(x,p,params):\n",
    "    qml.RY(Phi,wires=0)\n",
    "    qml.U3(params[0],params[1],params[2],wires=0)\n",
    "    qml.U3(params[3],params[4],params[5],wires=1)\n",
    "    qml.CNOT(wires=[1,0])\n",
    "    qml.RZ(params[6],wires=0)\n",
    "    qml.RY(params[7],wires=1)\n",
    "    qml.CNOT(wires=[0,1])\n",
    "    qml.RY(params[8],wires=1)\n",
    "    qml.CNOT(wires=[1,0])\n",
    "    qml.U3(params[9],params[10],params[11],wires=0)\n",
    "    qml.U3(params[12],params[13],params[14],wires=1)\n",
    "    \n",
    "    qml.DepolarizingChannel(1-p,wires=0)\n",
    "    qml.DepolarizingChannel(1-p,wires=1)\n",
    "\n",
    "   \n",
    "\n",
    "    return qml.density_matrix(wires=[0,1])"
   ]
  },
  {
   "cell_type": "code",
   "execution_count": 7,
   "id": "a6ad9758-58c8-495d-963e-7ba0dff47db5",
   "metadata": {},
   "outputs": [],
   "source": [
    "@qml.qnode(dev,diff_method=\"backprop\")\n",
    "def circuit2(p,params):\n",
    "    # qml.RY(Phi,wires=0)\n",
    "    qml.U3(params[0],params[1],params[2],wires=0)\n",
    "    qml.U3(params[3],params[4],params[5],wires=1)\n",
    "    qml.CNOT(wires=[1,0])\n",
    "    qml.RZ(params[6],wires=0)\n",
    "    qml.RY(params[7],wires=1)\n",
    "    qml.CNOT(wires=[0,1])\n",
    "    qml.RY(params[8],wires=1)\n",
    "    qml.CNOT(wires=[1,0])\n",
    "    qml.U3(params[9],params[10],params[11],wires=0)\n",
    "    qml.U3(params[12],params[13],params[14],wires=1)\n",
    "    \n",
    "    qml.DepolarizingChannel(1-p,wires=0)\n",
    "    qml.DepolarizingChannel(1-p,wires=1)\n",
    "\n",
    "    \n",
    "\n",
    "    return qml.density_matrix(wires=[0,1])"
   ]
  },
  {
   "cell_type": "code",
   "execution_count": 8,
   "id": "b7cc5113-ae5e-40c8-8a8c-0ee7c4404f88",
   "metadata": {},
   "outputs": [],
   "source": [
    "@qml.qnode(dev,diff_method=\"backprop\")\n",
    "def circuit3(p,params):\n",
    "    qml.RY(np.pi,wires=0)\n",
    "    qml.U3(params[0],params[1],params[2],wires=0)\n",
    "    qml.U3(params[3],params[4],params[5],wires=1)\n",
    "    qml.CNOT(wires=[1,0])\n",
    "    qml.RZ(params[6],wires=0)\n",
    "    qml.RY(params[7],wires=1)\n",
    "    qml.CNOT(wires=[0,1])\n",
    "    qml.RY(params[8],wires=1)\n",
    "    qml.CNOT(wires=[1,0])\n",
    "    qml.U3(params[9],params[10],params[11],wires=0)\n",
    "    qml.U3(params[12],params[13],params[14],wires=1)\n",
    "    \n",
    "    qml.DepolarizingChannel(1-p,wires=0)\n",
    "    qml.DepolarizingChannel(1-p,wires=1)\n",
    "\n",
    "    \n",
    "\n",
    "    return qml.density_matrix(wires=[0,1])\n",
    "\n",
    "\n"
   ]
  },
  {
   "cell_type": "code",
   "execution_count": 9,
   "id": "75e93962-3fe7-40c0-ad96-e720715155ef",
   "metadata": {},
   "outputs": [],
   "source": [
    "def cost(x, p, params):\n",
    "    circuit_output = circuit(x,p,params)\n",
    "    eig_values, eig_vectors = np.linalg.eigh(circuit_output)\n",
    "    \n",
    "    complex_jacobian_matrix = circuit1(x,p,params)-1/2*circuit2(p,params)-1/2*circuit3(p,params)\n",
    "    \n",
    "    L_theta = np.zeros_like(circuit_output)\n",
    "    \n",
    "    for n in range(len(eig_values)):\n",
    "        for m in range(len(eig_values)):\n",
    "            if not np.isclose(eig_values[n] + eig_values[m], 0):\n",
    "                matrix_element = np.dot(np.conj(eig_vectors[:, m]).T,np.dot(complex_jacobian_matrix, eig_vectors[:, n]))\n",
    "                L_theta =L_theta + (2 * matrix_element / (eig_values[n] + eig_values[m])) * np.outer(eig_vectors[:, m], np.conj(eig_vectors[:, n]))\n",
    "    \n",
    "    L_theta_squared = np.dot(L_theta, L_theta)\n",
    "    QFI = np.trace(np.dot(L_theta_squared, circuit_output))\n",
    "    \n",
    "    return -np.real(QFI)\n"
   ]
  },
  {
   "cell_type": "code",
   "execution_count": 10,
   "id": "f7997502-27e8-4930-b185-a1c63123f5b3",
   "metadata": {},
   "outputs": [
    {
     "name": "stdout",
     "output_type": "stream",
     "text": [
      "[0.07085898012105528, 0.04320112450159881, 0.02329476319935258, 0.01001792958694238, 0.002453919872359594, 1.7577626993461116e-09, 0.0024455286330458473, 0.010000440243769062, 0.023266856634324276, 0.04316103465435681, 0.07080469134692728, 0.10740944987178705, 0.15417526651703956, 0.21221572890464946, 0.2825139660236761, 0.365905723895235, 0.46308231157714225, 0.5746053725199335, 0.7009266991672524, 0.8424083989262159, 0.9993407777800329]\n"
     ]
    },
    {
     "data": {
      "image/png": "[encoded data removed]",
      "text/plain": [
       "<Figure size 640x480 with 1 Axes>"
      ]
     },
     "metadata": {},
     "output_type": "display_data"
    }
   ],
   "source": [
    "params=np.random.uniform(-np.pi,np.pi,15)\n",
    "p_val = np.linspace(0.00001, 0.99980, num=21)\n",
    "f=[]\n",
    "for p in p_val:\n",
    "    p=-cost(x, p,params)\n",
    "    f.append(p)\n",
    "plt.plot(p_val,f)\n",
    "print(f)"
   ]
  },
  {
   "cell_type": "code",
   "execution_count": 19,
   "id": "2acaedae-6596-4cd6-ab62-f9fc438447ae",
   "metadata": {
    "scrolled": true
   },
   "outputs": [
    {
     "name": "stdout",
     "output_type": "stream",
     "text": [
      "Step 10: Cost = -0.07963204039337635\n",
      "Step 10: Cost = -0.0844496509147637\n"
     ]
    },
    {
     "ename": "KeyboardInterrupt",
     "evalue": "",
     "output_type": "error",
     "traceback": [
      "\u001b[1;31m---------------------------------------------------------------------------\u001b[0m",
      "\u001b[1;31mKeyboardInterrupt\u001b[0m                         Traceback (most recent call last)",
      "Cell \u001b[1;32mIn[19], line 17\u001b[0m\n\u001b[0;32m     14\u001b[0m costs \u001b[38;5;241m=\u001b[39m []\n\u001b[0;32m     16\u001b[0m \u001b[38;5;28;01mfor\u001b[39;00m i \u001b[38;5;129;01min\u001b[39;00m \u001b[38;5;28mrange\u001b[39m(\u001b[38;5;241m10\u001b[39m):\n\u001b[1;32m---> 17\u001b[0m     params, current_cost \u001b[38;5;241m=\u001b[39m opt\u001b[38;5;241m.\u001b[39mstep_and_cost(\u001b[38;5;28;01mlambda\u001b[39;00m params: cost(x, p, params), params)\n\u001b[0;32m     18\u001b[0m     costs\u001b[38;5;241m.\u001b[39mappend(current_cost)\n\u001b[0;32m     20\u001b[0m     \u001b[38;5;28;01mif\u001b[39;00m (i \u001b[38;5;241m+\u001b[39m \u001b[38;5;241m1\u001b[39m) \u001b[38;5;241m%\u001b[39m \u001b[38;5;241m10\u001b[39m \u001b[38;5;241m==\u001b[39m \u001b[38;5;241m0\u001b[39m:\n",
      "File \u001b[1;32m~\\anaconda3\\Lib\\site-packages\\pennylane\\optimize\\spsa.py:195\u001b[0m, in \u001b[0;36mSPSAOptimizer.step_and_cost\u001b[1;34m(self, objective_fn, *args, **kwargs)\u001b[0m\n\u001b[0;32m    181\u001b[0m \u001b[38;5;28;01mdef\u001b[39;00m \u001b[38;5;21mstep_and_cost\u001b[39m(\u001b[38;5;28mself\u001b[39m, objective_fn, \u001b[38;5;241m*\u001b[39margs, \u001b[38;5;241m*\u001b[39m\u001b[38;5;241m*\u001b[39mkwargs):\n\u001b[0;32m    182\u001b[0m \u001b[38;5;250m    \u001b[39m\u001b[38;5;124mr\u001b[39m\u001b[38;5;124;03m\"\"\"Update the parameter array :math:`\\hat{\\theta}_k` with one step of the\u001b[39;00m\n\u001b[0;32m    183\u001b[0m \u001b[38;5;124;03m    optimizer and return the step and the corresponding objective function. The number\u001b[39;00m\n\u001b[0;32m    184\u001b[0m \u001b[38;5;124;03m    of steps stored by the ``k`` attribute of the optimizer is counted internally when calling ``step_and_cost`` and ``cost``.\u001b[39;00m\n\u001b[1;32m   (...)\u001b[0m\n\u001b[0;32m    193\u001b[0m \u001b[38;5;124;03m        objective function output prior to the step.\u001b[39;00m\n\u001b[0;32m    194\u001b[0m \u001b[38;5;124;03m    \"\"\"\u001b[39;00m\n\u001b[1;32m--> 195\u001b[0m     g \u001b[38;5;241m=\u001b[39m \u001b[38;5;28mself\u001b[39m\u001b[38;5;241m.\u001b[39mcompute_grad(objective_fn, args, kwargs)\n\u001b[0;32m    196\u001b[0m     new_args \u001b[38;5;241m=\u001b[39m \u001b[38;5;28mself\u001b[39m\u001b[38;5;241m.\u001b[39mapply_grad(g, args)\n\u001b[0;32m    198\u001b[0m     \u001b[38;5;28mself\u001b[39m\u001b[38;5;241m.\u001b[39mk \u001b[38;5;241m+\u001b[39m\u001b[38;5;241m=\u001b[39m \u001b[38;5;241m1\u001b[39m\n",
      "File \u001b[1;32m~\\anaconda3\\Lib\\site-packages\\pennylane\\optimize\\spsa.py:261\u001b[0m, in \u001b[0;36mSPSAOptimizer.compute_grad\u001b[1;34m(self, objective_fn, args, kwargs)\u001b[0m\n\u001b[0;32m    259\u001b[0m         thetaminus[index] \u001b[38;5;241m=\u001b[39m arg \u001b[38;5;241m-\u001b[39m multiplier\n\u001b[0;32m    260\u001b[0m         delta\u001b[38;5;241m.\u001b[39mappend(di)\n\u001b[1;32m--> 261\u001b[0m yplus \u001b[38;5;241m=\u001b[39m objective_fn(\u001b[38;5;241m*\u001b[39mthetaplus, \u001b[38;5;241m*\u001b[39m\u001b[38;5;241m*\u001b[39mkwargs)\n\u001b[0;32m    262\u001b[0m yminus \u001b[38;5;241m=\u001b[39m objective_fn(\u001b[38;5;241m*\u001b[39mthetaminus, \u001b[38;5;241m*\u001b[39m\u001b[38;5;241m*\u001b[39mkwargs)\n\u001b[0;32m    263\u001b[0m \u001b[38;5;28;01mtry\u001b[39;00m:\n\u001b[0;32m    264\u001b[0m     \u001b[38;5;66;03m# pylint: disable=protected-access\u001b[39;00m\n",
      "Cell \u001b[1;32mIn[19], line 17\u001b[0m, in \u001b[0;36m<lambda>\u001b[1;34m(params)\u001b[0m\n\u001b[0;32m     14\u001b[0m costs \u001b[38;5;241m=\u001b[39m []\n\u001b[0;32m     16\u001b[0m \u001b[38;5;28;01mfor\u001b[39;00m i \u001b[38;5;129;01min\u001b[39;00m \u001b[38;5;28mrange\u001b[39m(\u001b[38;5;241m10\u001b[39m):\n\u001b[1;32m---> 17\u001b[0m     params, current_cost \u001b[38;5;241m=\u001b[39m opt\u001b[38;5;241m.\u001b[39mstep_and_cost(\u001b[38;5;28;01mlambda\u001b[39;00m params: cost(x, p, params), params)\n\u001b[0;32m     18\u001b[0m     costs\u001b[38;5;241m.\u001b[39mappend(current_cost)\n\u001b[0;32m     20\u001b[0m     \u001b[38;5;28;01mif\u001b[39;00m (i \u001b[38;5;241m+\u001b[39m \u001b[38;5;241m1\u001b[39m) \u001b[38;5;241m%\u001b[39m \u001b[38;5;241m10\u001b[39m \u001b[38;5;241m==\u001b[39m \u001b[38;5;241m0\u001b[39m:\n",
      "Cell \u001b[1;32mIn[9], line 5\u001b[0m, in \u001b[0;36mcost\u001b[1;34m(x, p, params)\u001b[0m\n\u001b[0;32m      2\u001b[0m circuit_output \u001b[38;5;241m=\u001b[39m circuit(x,p,params)\n\u001b[0;32m      3\u001b[0m eig_values, eig_vectors \u001b[38;5;241m=\u001b[39m np\u001b[38;5;241m.\u001b[39mlinalg\u001b[38;5;241m.\u001b[39meigh(circuit_output)\n\u001b[1;32m----> 5\u001b[0m complex_jacobian_matrix \u001b[38;5;241m=\u001b[39m circuit1(x,p,params)\u001b[38;5;241m-\u001b[39m\u001b[38;5;241m1\u001b[39m\u001b[38;5;241m/\u001b[39m\u001b[38;5;241m2\u001b[39m\u001b[38;5;241m*\u001b[39mcircuit2(p,params)\u001b[38;5;241m-\u001b[39m\u001b[38;5;241m1\u001b[39m\u001b[38;5;241m/\u001b[39m\u001b[38;5;241m2\u001b[39m\u001b[38;5;241m*\u001b[39mcircuit3(p,params)\n\u001b[0;32m      7\u001b[0m L_theta \u001b[38;5;241m=\u001b[39m np\u001b[38;5;241m.\u001b[39mzeros_like(circuit_output)\n\u001b[0;32m      9\u001b[0m \u001b[38;5;28;01mfor\u001b[39;00m n \u001b[38;5;129;01min\u001b[39;00m \u001b[38;5;28mrange\u001b[39m(\u001b[38;5;28mlen\u001b[39m(eig_values)):\n",
      "File \u001b[1;32m~\\anaconda3\\Lib\\site-packages\\pennylane\\workflow\\qnode.py:1098\u001b[0m, in \u001b[0;36mQNode.__call__\u001b[1;34m(self, *args, **kwargs)\u001b[0m\n\u001b[0;32m   1095\u001b[0m \u001b[38;5;28mself\u001b[39m\u001b[38;5;241m.\u001b[39m_update_gradient_fn(shots\u001b[38;5;241m=\u001b[39moverride_shots, tape\u001b[38;5;241m=\u001b[39m\u001b[38;5;28mself\u001b[39m\u001b[38;5;241m.\u001b[39m_tape)\n\u001b[0;32m   1097\u001b[0m \u001b[38;5;28;01mtry\u001b[39;00m:\n\u001b[1;32m-> 1098\u001b[0m     res \u001b[38;5;241m=\u001b[39m \u001b[38;5;28mself\u001b[39m\u001b[38;5;241m.\u001b[39m_execution_component(args, kwargs, override_shots\u001b[38;5;241m=\u001b[39moverride_shots)\n\u001b[0;32m   1099\u001b[0m \u001b[38;5;28;01mfinally\u001b[39;00m:\n\u001b[0;32m   1100\u001b[0m     \u001b[38;5;28;01mif\u001b[39;00m old_interface \u001b[38;5;241m==\u001b[39m \u001b[38;5;124m\"\u001b[39m\u001b[38;5;124mauto\u001b[39m\u001b[38;5;124m\"\u001b[39m:\n",
      "File \u001b[1;32m~\\anaconda3\\Lib\\site-packages\\pennylane\\workflow\\qnode.py:1052\u001b[0m, in \u001b[0;36mQNode._execution_component\u001b[1;34m(self, args, kwargs, override_shots)\u001b[0m\n\u001b[0;32m   1049\u001b[0m full_transform_program\u001b[38;5;241m.\u001b[39mprune_dynamic_transform()\n\u001b[0;32m   1051\u001b[0m \u001b[38;5;66;03m# pylint: disable=unexpected-keyword-arg\u001b[39;00m\n\u001b[1;32m-> 1052\u001b[0m res \u001b[38;5;241m=\u001b[39m qml\u001b[38;5;241m.\u001b[39mexecute(\n\u001b[0;32m   1053\u001b[0m     (\u001b[38;5;28mself\u001b[39m\u001b[38;5;241m.\u001b[39m_tape,),\n\u001b[0;32m   1054\u001b[0m     device\u001b[38;5;241m=\u001b[39m\u001b[38;5;28mself\u001b[39m\u001b[38;5;241m.\u001b[39mdevice,\n\u001b[0;32m   1055\u001b[0m     gradient_fn\u001b[38;5;241m=\u001b[39m\u001b[38;5;28mself\u001b[39m\u001b[38;5;241m.\u001b[39mgradient_fn,\n\u001b[0;32m   1056\u001b[0m     interface\u001b[38;5;241m=\u001b[39m\u001b[38;5;28mself\u001b[39m\u001b[38;5;241m.\u001b[39minterface,\n\u001b[0;32m   1057\u001b[0m     transform_program\u001b[38;5;241m=\u001b[39mfull_transform_program,\n\u001b[0;32m   1058\u001b[0m     config\u001b[38;5;241m=\u001b[39mconfig,\n\u001b[0;32m   1059\u001b[0m     gradient_kwargs\u001b[38;5;241m=\u001b[39m\u001b[38;5;28mself\u001b[39m\u001b[38;5;241m.\u001b[39mgradient_kwargs,\n\u001b[0;32m   1060\u001b[0m     override_shots\u001b[38;5;241m=\u001b[39moverride_shots,\n\u001b[0;32m   1061\u001b[0m     \u001b[38;5;241m*\u001b[39m\u001b[38;5;241m*\u001b[39m\u001b[38;5;28mself\u001b[39m\u001b[38;5;241m.\u001b[39mexecute_kwargs,\n\u001b[0;32m   1062\u001b[0m )\n\u001b[0;32m   1063\u001b[0m res \u001b[38;5;241m=\u001b[39m res[\u001b[38;5;241m0\u001b[39m]\n\u001b[0;32m   1065\u001b[0m \u001b[38;5;66;03m# convert result to the interface in case the qfunc has no parameters\u001b[39;00m\n",
      "File \u001b[1;32m~\\anaconda3\\Lib\\site-packages\\pennylane\\workflow\\execution.py:616\u001b[0m, in \u001b[0;36mexecute\u001b[1;34m(tapes, device, gradient_fn, interface, transform_program, config, grad_on_execution, gradient_kwargs, cache, cachesize, max_diff, override_shots, expand_fn, max_expansion, device_batch_transform, device_vjp)\u001b[0m\n\u001b[0;32m    614\u001b[0m \u001b[38;5;66;03m# Exiting early if we do not need to deal with an interface boundary\u001b[39;00m\n\u001b[0;32m    615\u001b[0m \u001b[38;5;28;01mif\u001b[39;00m no_interface_boundary_required:\n\u001b[1;32m--> 616\u001b[0m     results \u001b[38;5;241m=\u001b[39m inner_execute(tapes)\n\u001b[0;32m    617\u001b[0m     \u001b[38;5;28;01mreturn\u001b[39;00m post_processing(results)\n\u001b[0;32m    619\u001b[0m _grad_on_execution \u001b[38;5;241m=\u001b[39m \u001b[38;5;28;01mFalse\u001b[39;00m\n",
      "File \u001b[1;32m~\\anaconda3\\Lib\\site-packages\\pennylane\\workflow\\execution.py:297\u001b[0m, in \u001b[0;36m_make_inner_execute.<locals>.inner_execute\u001b[1;34m(tapes, **_)\u001b[0m\n\u001b[0;32m    294\u001b[0m transformed_tapes, transform_post_processing \u001b[38;5;241m=\u001b[39m transform_program(tapes)\n\u001b[0;32m    296\u001b[0m \u001b[38;5;28;01mif\u001b[39;00m transformed_tapes:\n\u001b[1;32m--> 297\u001b[0m     results \u001b[38;5;241m=\u001b[39m device_execution(transformed_tapes)\n\u001b[0;32m    298\u001b[0m \u001b[38;5;28;01melse\u001b[39;00m:\n\u001b[0;32m    299\u001b[0m     results \u001b[38;5;241m=\u001b[39m ()\n",
      "File \u001b[1;32m~\\anaconda3\\Lib\\contextlib.py:81\u001b[0m, in \u001b[0;36mContextDecorator.__call__.<locals>.inner\u001b[1;34m(*args, **kwds)\u001b[0m\n\u001b[0;32m     78\u001b[0m \u001b[38;5;129m@wraps\u001b[39m(func)\n\u001b[0;32m     79\u001b[0m \u001b[38;5;28;01mdef\u001b[39;00m \u001b[38;5;21minner\u001b[39m(\u001b[38;5;241m*\u001b[39margs, \u001b[38;5;241m*\u001b[39m\u001b[38;5;241m*\u001b[39mkwds):\n\u001b[0;32m     80\u001b[0m     \u001b[38;5;28;01mwith\u001b[39;00m \u001b[38;5;28mself\u001b[39m\u001b[38;5;241m.\u001b[39m_recreate_cm():\n\u001b[1;32m---> 81\u001b[0m         \u001b[38;5;28;01mreturn\u001b[39;00m func(\u001b[38;5;241m*\u001b[39margs, \u001b[38;5;241m*\u001b[39m\u001b[38;5;241m*\u001b[39mkwds)\n",
      "File \u001b[1;32m~\\anaconda3\\Lib\\site-packages\\pennylane\\_qubit_device.py:490\u001b[0m, in \u001b[0;36mQubitDevice.batch_execute\u001b[1;34m(self, circuits)\u001b[0m\n\u001b[0;32m    485\u001b[0m \u001b[38;5;28;01mfor\u001b[39;00m circuit \u001b[38;5;129;01min\u001b[39;00m circuits:\n\u001b[0;32m    486\u001b[0m     \u001b[38;5;66;03m# we need to reset the device here, else it will\u001b[39;00m\n\u001b[0;32m    487\u001b[0m     \u001b[38;5;66;03m# not start the next computation in the zero state\u001b[39;00m\n\u001b[0;32m    488\u001b[0m     \u001b[38;5;28mself\u001b[39m\u001b[38;5;241m.\u001b[39mreset()\n\u001b[1;32m--> 490\u001b[0m     res \u001b[38;5;241m=\u001b[39m \u001b[38;5;28mself\u001b[39m\u001b[38;5;241m.\u001b[39mexecute(circuit)\n\u001b[0;32m    491\u001b[0m     results\u001b[38;5;241m.\u001b[39mappend(res)\n\u001b[0;32m    493\u001b[0m \u001b[38;5;28;01mif\u001b[39;00m \u001b[38;5;28mself\u001b[39m\u001b[38;5;241m.\u001b[39mtracker\u001b[38;5;241m.\u001b[39mactive:\n",
      "File \u001b[1;32m~\\anaconda3\\Lib\\site-packages\\pennylane\\devices\\default_mixed.py:767\u001b[0m, in \u001b[0;36mDefaultMixed.execute\u001b[1;34m(self, circuit, **kwargs)\u001b[0m\n\u001b[0;32m    765\u001b[0m         wires_list\u001b[38;5;241m.\u001b[39mappend(m\u001b[38;5;241m.\u001b[39mwires)\n\u001b[0;32m    766\u001b[0m     \u001b[38;5;28mself\u001b[39m\u001b[38;5;241m.\u001b[39mmeasured_wires \u001b[38;5;241m=\u001b[39m qml\u001b[38;5;241m.\u001b[39mwires\u001b[38;5;241m.\u001b[39mWires\u001b[38;5;241m.\u001b[39mall_wires(wires_list)\n\u001b[1;32m--> 767\u001b[0m \u001b[38;5;28;01mreturn\u001b[39;00m \u001b[38;5;28msuper\u001b[39m()\u001b[38;5;241m.\u001b[39mexecute(circuit, \u001b[38;5;241m*\u001b[39m\u001b[38;5;241m*\u001b[39mkwargs)\n",
      "File \u001b[1;32m~\\anaconda3\\Lib\\site-packages\\pennylane\\_qubit_device.py:281\u001b[0m, in \u001b[0;36mQubitDevice.execute\u001b[1;34m(self, circuit, **kwargs)\u001b[0m\n\u001b[0;32m    279\u001b[0m     kwargs[\u001b[38;5;124m\"\u001b[39m\u001b[38;5;124mmid_measurements\u001b[39m\u001b[38;5;124m\"\u001b[39m] \u001b[38;5;241m=\u001b[39m {}\n\u001b[0;32m    280\u001b[0m \u001b[38;5;66;03m# apply all circuit operations\u001b[39;00m\n\u001b[1;32m--> 281\u001b[0m \u001b[38;5;28mself\u001b[39m\u001b[38;5;241m.\u001b[39mapply(\n\u001b[0;32m    282\u001b[0m     circuit\u001b[38;5;241m.\u001b[39moperations,\n\u001b[0;32m    283\u001b[0m     rotations\u001b[38;5;241m=\u001b[39m\u001b[38;5;28mself\u001b[39m\u001b[38;5;241m.\u001b[39m_get_diagonalizing_gates(circuit),\n\u001b[0;32m    284\u001b[0m     \u001b[38;5;241m*\u001b[39m\u001b[38;5;241m*\u001b[39mkwargs,\n\u001b[0;32m    285\u001b[0m )\n\u001b[0;32m    286\u001b[0m \u001b[38;5;28;01mif\u001b[39;00m has_mcm:\n\u001b[0;32m    287\u001b[0m     mid_measurements \u001b[38;5;241m=\u001b[39m kwargs[\u001b[38;5;124m\"\u001b[39m\u001b[38;5;124mmid_measurements\u001b[39m\u001b[38;5;124m\"\u001b[39m]\n",
      "File \u001b[1;32m~\\anaconda3\\Lib\\site-packages\\pennylane\\devices\\default_mixed.py:781\u001b[0m, in \u001b[0;36mDefaultMixed.apply\u001b[1;34m(self, operations, rotations, **kwargs)\u001b[0m\n\u001b[0;32m    775\u001b[0m         \u001b[38;5;28;01mraise\u001b[39;00m DeviceError(\n\u001b[0;32m    776\u001b[0m             \u001b[38;5;124mf\u001b[39m\u001b[38;5;124m\"\u001b[39m\u001b[38;5;124mOperation \u001b[39m\u001b[38;5;132;01m{\u001b[39;00moperation\u001b[38;5;241m.\u001b[39mname\u001b[38;5;132;01m}\u001b[39;00m\u001b[38;5;124m cannot be used after other Operations have already been applied \u001b[39m\u001b[38;5;124m\"\u001b[39m\n\u001b[0;32m    777\u001b[0m             \u001b[38;5;124mf\u001b[39m\u001b[38;5;124m\"\u001b[39m\u001b[38;5;124mon a \u001b[39m\u001b[38;5;132;01m{\u001b[39;00m\u001b[38;5;28mself\u001b[39m\u001b[38;5;241m.\u001b[39mshort_name\u001b[38;5;132;01m}\u001b[39;00m\u001b[38;5;124m device.\u001b[39m\u001b[38;5;124m\"\u001b[39m\n\u001b[0;32m    778\u001b[0m         )\n\u001b[0;32m    780\u001b[0m \u001b[38;5;28;01mfor\u001b[39;00m operation \u001b[38;5;129;01min\u001b[39;00m operations:\n\u001b[1;32m--> 781\u001b[0m     \u001b[38;5;28mself\u001b[39m\u001b[38;5;241m.\u001b[39m_apply_operation(operation)\n\u001b[0;32m    783\u001b[0m \u001b[38;5;66;03m# store the pre-rotated state\u001b[39;00m\n\u001b[0;32m    784\u001b[0m \u001b[38;5;28mself\u001b[39m\u001b[38;5;241m.\u001b[39m_pre_rotated_state \u001b[38;5;241m=\u001b[39m \u001b[38;5;28mself\u001b[39m\u001b[38;5;241m.\u001b[39m_state\n",
      "File \u001b[1;32m~\\anaconda3\\Lib\\site-packages\\pennylane\\devices\\default_mixed.py:702\u001b[0m, in \u001b[0;36mDefaultMixed._apply_operation\u001b[1;34m(self, operation)\u001b[0m\n\u001b[0;32m    699\u001b[0m matrices \u001b[38;5;241m=\u001b[39m \u001b[38;5;28mself\u001b[39m\u001b[38;5;241m.\u001b[39m_get_kraus(operation)\n\u001b[0;32m    701\u001b[0m \u001b[38;5;28;01mif\u001b[39;00m operation \u001b[38;5;129;01min\u001b[39;00m diagonal_in_z_basis:\n\u001b[1;32m--> 702\u001b[0m     \u001b[38;5;28mself\u001b[39m\u001b[38;5;241m.\u001b[39m_apply_diagonal_unitary(matrices, wires)\n\u001b[0;32m    703\u001b[0m \u001b[38;5;28;01melse\u001b[39;00m:\n\u001b[0;32m    704\u001b[0m     num_op_wires \u001b[38;5;241m=\u001b[39m \u001b[38;5;28mlen\u001b[39m(wires)\n",
      "File \u001b[1;32m~\\anaconda3\\Lib\\site-packages\\pennylane\\devices\\default_mixed.py:435\u001b[0m, in \u001b[0;36mDefaultMixed._apply_diagonal_unitary\u001b[1;34m(self, eigvals, wires)\u001b[0m\n\u001b[0;32m    425\u001b[0m \u001b[38;5;250m\u001b[39m\u001b[38;5;124mr\u001b[39m\u001b[38;5;124;03m\"\"\"Apply a diagonal unitary gate specified by a list of eigenvalues. This method uses\u001b[39;00m\n\u001b[0;32m    426\u001b[0m \u001b[38;5;124;03mthe fact that the unitary is diagonal for a more efficient implementation.\u001b[39;00m\n\u001b[0;32m    427\u001b[0m \n\u001b[1;32m   (...)\u001b[0m\n\u001b[0;32m    430\u001b[0m \u001b[38;5;124;03m    wires (Wires): target wires\u001b[39;00m\n\u001b[0;32m    431\u001b[0m \u001b[38;5;124;03m\"\"\"\u001b[39;00m\n\u001b[0;32m    433\u001b[0m channel_wires \u001b[38;5;241m=\u001b[39m \u001b[38;5;28mself\u001b[39m\u001b[38;5;241m.\u001b[39mmap_wires(wires)\n\u001b[1;32m--> 435\u001b[0m eigvals \u001b[38;5;241m=\u001b[39m qnp\u001b[38;5;241m.\u001b[39mstack(eigvals)\n\u001b[0;32m    437\u001b[0m \u001b[38;5;66;03m# reshape vectors\u001b[39;00m\n\u001b[0;32m    438\u001b[0m eigvals \u001b[38;5;241m=\u001b[39m qnp\u001b[38;5;241m.\u001b[39mcast(qnp\u001b[38;5;241m.\u001b[39mreshape(eigvals, [\u001b[38;5;241m2\u001b[39m] \u001b[38;5;241m*\u001b[39m \u001b[38;5;28mlen\u001b[39m(channel_wires)), dtype\u001b[38;5;241m=\u001b[39m\u001b[38;5;28mself\u001b[39m\u001b[38;5;241m.\u001b[39mC_DTYPE)\n",
      "File \u001b[1;32m~\\anaconda3\\Lib\\site-packages\\pennylane\\math\\multi_dispatch.py:151\u001b[0m, in \u001b[0;36mmulti_dispatch.<locals>.decorator.<locals>.wrapper\u001b[1;34m(*args, **kwargs)\u001b[0m\n\u001b[0;32m    148\u001b[0m interface \u001b[38;5;241m=\u001b[39m interface \u001b[38;5;129;01mor\u001b[39;00m get_interface(\u001b[38;5;241m*\u001b[39mdispatch_args)\n\u001b[0;32m    149\u001b[0m kwargs[\u001b[38;5;124m\"\u001b[39m\u001b[38;5;124mlike\u001b[39m\u001b[38;5;124m\"\u001b[39m] \u001b[38;5;241m=\u001b[39m interface\n\u001b[1;32m--> 151\u001b[0m \u001b[38;5;28;01mreturn\u001b[39;00m fn(\u001b[38;5;241m*\u001b[39margs, \u001b[38;5;241m*\u001b[39m\u001b[38;5;241m*\u001b[39mkwargs)\n",
      "File \u001b[1;32m~\\anaconda3\\Lib\\site-packages\\pennylane\\math\\multi_dispatch.py:497\u001b[0m, in \u001b[0;36mstack\u001b[1;34m(values, axis, like)\u001b[0m\n\u001b[0;32m    468\u001b[0m \u001b[38;5;250m\u001b[39m\u001b[38;5;124;03m\"\"\"Stack a sequence of tensors along the specified axis.\u001b[39;00m\n\u001b[0;32m    469\u001b[0m \n\u001b[0;32m    470\u001b[0m \u001b[38;5;124;03m.. warning::\u001b[39;00m\n\u001b[1;32m   (...)\u001b[0m\n\u001b[0;32m    494\u001b[0m \u001b[38;5;124;03m       [5.00e+00, 8.00e+00, 1.01e+02]], dtype=float32)>\u001b[39;00m\n\u001b[0;32m    495\u001b[0m \u001b[38;5;124;03m\"\"\"\u001b[39;00m\n\u001b[0;32m    496\u001b[0m values \u001b[38;5;241m=\u001b[39m np\u001b[38;5;241m.\u001b[39mcoerce(values, like\u001b[38;5;241m=\u001b[39mlike)\n\u001b[1;32m--> 497\u001b[0m \u001b[38;5;28;01mreturn\u001b[39;00m np\u001b[38;5;241m.\u001b[39mstack(values, axis\u001b[38;5;241m=\u001b[39maxis, like\u001b[38;5;241m=\u001b[39mlike)\n",
      "File \u001b[1;32m~\\anaconda3\\Lib\\site-packages\\autoray\\autoray.py:80\u001b[0m, in \u001b[0;36mdo\u001b[1;34m(fn, like, *args, **kwargs)\u001b[0m\n\u001b[0;32m     31\u001b[0m \u001b[38;5;250m\u001b[39m\u001b[38;5;124;03m\"\"\"Do function named ``fn`` on ``(*args, **kwargs)``, peforming single\u001b[39;00m\n\u001b[0;32m     32\u001b[0m \u001b[38;5;124;03mdispatch to retrieve ``fn`` based on whichever library defines the class of\u001b[39;00m\n\u001b[0;32m     33\u001b[0m \u001b[38;5;124;03mthe ``args[0]``, or the ``like`` keyword argument if specified.\u001b[39;00m\n\u001b[1;32m   (...)\u001b[0m\n\u001b[0;32m     77\u001b[0m \u001b[38;5;124;03m    <tf.Tensor: id=91, shape=(3, 3), dtype=float32>\u001b[39;00m\n\u001b[0;32m     78\u001b[0m \u001b[38;5;124;03m\"\"\"\u001b[39;00m\n\u001b[0;32m     79\u001b[0m backend \u001b[38;5;241m=\u001b[39m choose_backend(fn, \u001b[38;5;241m*\u001b[39margs, like\u001b[38;5;241m=\u001b[39mlike, \u001b[38;5;241m*\u001b[39m\u001b[38;5;241m*\u001b[39mkwargs)\n\u001b[1;32m---> 80\u001b[0m \u001b[38;5;28;01mreturn\u001b[39;00m get_lib_fn(backend, fn)(\u001b[38;5;241m*\u001b[39margs, \u001b[38;5;241m*\u001b[39m\u001b[38;5;241m*\u001b[39mkwargs)\n",
      "File \u001b[1;32m~\\anaconda3\\Lib\\site-packages\\pennylane\\numpy\\wrapper.py:117\u001b[0m, in \u001b[0;36mtensor_wrapper.<locals>._wrapped\u001b[1;34m(*args, **kwargs)\u001b[0m\n\u001b[0;32m    114\u001b[0m         tensor_kwargs[\u001b[38;5;124m\"\u001b[39m\u001b[38;5;124mrequires_grad\u001b[39m\u001b[38;5;124m\"\u001b[39m] \u001b[38;5;241m=\u001b[39m _np\u001b[38;5;241m.\u001b[39many([i\u001b[38;5;241m.\u001b[39mrequires_grad \u001b[38;5;28;01mfor\u001b[39;00m i \u001b[38;5;129;01min\u001b[39;00m tensor_args])\n\u001b[0;32m    116\u001b[0m \u001b[38;5;66;03m# evaluate the original object\u001b[39;00m\n\u001b[1;32m--> 117\u001b[0m res \u001b[38;5;241m=\u001b[39m obj(\u001b[38;5;241m*\u001b[39margs, \u001b[38;5;241m*\u001b[39m\u001b[38;5;241m*\u001b[39mkwargs)\n\u001b[0;32m    119\u001b[0m \u001b[38;5;28;01mif\u001b[39;00m \u001b[38;5;28misinstance\u001b[39m(res, _np\u001b[38;5;241m.\u001b[39mndarray):\n\u001b[0;32m    120\u001b[0m     \u001b[38;5;66;03m# only if the output of the object is a ndarray,\u001b[39;00m\n\u001b[0;32m    121\u001b[0m     \u001b[38;5;66;03m# then convert to a PennyLane tensor\u001b[39;00m\n\u001b[0;32m    122\u001b[0m     res \u001b[38;5;241m=\u001b[39m tensor(res, \u001b[38;5;241m*\u001b[39m\u001b[38;5;241m*\u001b[39mtensor_kwargs)\n",
      "File \u001b[1;32m~\\anaconda3\\Lib\\site-packages\\autograd\\numpy\\numpy_wrapper.py:103\u001b[0m, in \u001b[0;36mstack\u001b[1;34m(arrays, axis)\u001b[0m\n\u001b[0;32m    100\u001b[0m     axis \u001b[38;5;241m+\u001b[39m\u001b[38;5;241m=\u001b[39m result_ndim\n\u001b[0;32m    102\u001b[0m sl \u001b[38;5;241m=\u001b[39m (\u001b[38;5;28mslice\u001b[39m(\u001b[38;5;28;01mNone\u001b[39;00m),) \u001b[38;5;241m*\u001b[39m axis \u001b[38;5;241m+\u001b[39m (\u001b[38;5;28;01mNone\u001b[39;00m,)\n\u001b[1;32m--> 103\u001b[0m \u001b[38;5;28;01mreturn\u001b[39;00m concatenate([arr[sl] \u001b[38;5;28;01mfor\u001b[39;00m arr \u001b[38;5;129;01min\u001b[39;00m arrays], axis\u001b[38;5;241m=\u001b[39maxis)\n",
      "File \u001b[1;32m~\\anaconda3\\Lib\\site-packages\\autograd\\numpy\\numpy_wrapper.py:38\u001b[0m, in \u001b[0;36m<lambda>\u001b[1;34m(arr_list, axis)\u001b[0m\n\u001b[0;32m     35\u001b[0m \u001b[38;5;129m@primitive\u001b[39m\n\u001b[0;32m     36\u001b[0m \u001b[38;5;28;01mdef\u001b[39;00m \u001b[38;5;21mconcatenate_args\u001b[39m(axis, \u001b[38;5;241m*\u001b[39margs):\n\u001b[0;32m     37\u001b[0m     \u001b[38;5;28;01mreturn\u001b[39;00m _np\u001b[38;5;241m.\u001b[39mconcatenate(args, axis)\u001b[38;5;241m.\u001b[39mview(ndarray)\n\u001b[1;32m---> 38\u001b[0m concatenate \u001b[38;5;241m=\u001b[39m \u001b[38;5;28;01mlambda\u001b[39;00m arr_list, axis\u001b[38;5;241m=\u001b[39m\u001b[38;5;241m0\u001b[39m : concatenate_args(axis, \u001b[38;5;241m*\u001b[39marr_list)\n\u001b[0;32m     39\u001b[0m vstack \u001b[38;5;241m=\u001b[39m row_stack \u001b[38;5;241m=\u001b[39m \u001b[38;5;28;01mlambda\u001b[39;00m tup: concatenate([atleast_2d(_m) \u001b[38;5;28;01mfor\u001b[39;00m _m \u001b[38;5;129;01min\u001b[39;00m tup], axis\u001b[38;5;241m=\u001b[39m\u001b[38;5;241m0\u001b[39m)\n\u001b[0;32m     40\u001b[0m \u001b[38;5;28;01mdef\u001b[39;00m \u001b[38;5;21mhstack\u001b[39m(tup):\n",
      "File \u001b[1;32m~\\anaconda3\\Lib\\site-packages\\autograd\\tracer.py:48\u001b[0m, in \u001b[0;36mprimitive.<locals>.f_wrapped\u001b[1;34m(*args, **kwargs)\u001b[0m\n\u001b[0;32m     46\u001b[0m     \u001b[38;5;28;01mreturn\u001b[39;00m new_box(ans, trace, node)\n\u001b[0;32m     47\u001b[0m \u001b[38;5;28;01melse\u001b[39;00m:\n\u001b[1;32m---> 48\u001b[0m     \u001b[38;5;28;01mreturn\u001b[39;00m f_raw(\u001b[38;5;241m*\u001b[39margs, \u001b[38;5;241m*\u001b[39m\u001b[38;5;241m*\u001b[39mkwargs)\n",
      "File \u001b[1;32m~\\anaconda3\\Lib\\site-packages\\autograd\\numpy\\numpy_wrapper.py:37\u001b[0m, in \u001b[0;36mconcatenate_args\u001b[1;34m(axis, *args)\u001b[0m\n\u001b[0;32m     35\u001b[0m \u001b[38;5;129m@primitive\u001b[39m\n\u001b[0;32m     36\u001b[0m \u001b[38;5;28;01mdef\u001b[39;00m \u001b[38;5;21mconcatenate_args\u001b[39m(axis, \u001b[38;5;241m*\u001b[39margs):\n\u001b[1;32m---> 37\u001b[0m     \u001b[38;5;28;01mreturn\u001b[39;00m _np\u001b[38;5;241m.\u001b[39mconcatenate(args, axis)\u001b[38;5;241m.\u001b[39mview(ndarray)\n",
      "\u001b[1;31mKeyboardInterrupt\u001b[0m: "
     ]
    }
   ],
   "source": [
    "opt = qml.SPSAOptimizer(maxiter=1)\n",
    "\n",
    "p_values = np.linspace(0.00001, 0.99980, num=21)\n",
    "QFI_values = []\n",
    "\n",
    "for p in p_values:\n",
    "    maxQFI = 0  \n",
    "    seed_val = 10\n",
    "\n",
    "    # Optimization loop for different seeds\n",
    "    for seed in range(seed_val):\n",
    "        np.random.seed(seed)\n",
    "        params = np.random.uniform(-np.pi,np.pi,15)  \n",
    "        costs = []\n",
    "\n",
    "        for i in range(10):\n",
    "            params, current_cost = opt.step_and_cost(lambda params: cost(x, p, params), params)\n",
    "            costs.append(current_cost)\n",
    "\n",
    "            if (i + 1) % 10 == 0:\n",
    "                print(f\"Step {i + 1}: Cost = {current_cost}\")\n",
    "\n",
    "        QFI_value = -costs[-1]  \n",
    "        if QFI_value>maxQFI:\n",
    "            maxQFI = QFI_value  \n",
    "\n",
    "    QFI_values.append(maxQFI) \n",
    "\n",
    "print(QFI_values)\n",
    "plt.plot(p_values, QFI_values, '-o')\n",
    "plt.xlabel('p')\n",
    "plt.ylabel('QFI Value')\n",
    "plt.title('QFI Value vs. p')\n",
    "plt.grid(True)\n",
    "plt.show()"
   ]
  },
  {
   "cell_type": "code",
   "execution_count": null,
   "id": "5769f279-becd-40e0-b1ad-f7384762099f",
   "metadata": {},
   "outputs": [],
   "source": []
  }
 ],
 "metadata": {
  "kernelspec": {
   "display_name": "Python 3 (ipykernel)",
   "language": "python",
   "name": "python3"
  },
  "language_info": {
   "codemirror_mode": {
    "name": "ipython",
    "version": 3
   },
   "file_extension": ".py",
   "mimetype": "text/x-python",
   "name": "python",
   "nbconvert_exporter": "python",
   "pygments_lexer": "ipython3",
   "version": "3.11.7"
  },
  "widgets": {
   "application/vnd.jupyter.widget-state+json": {
    "state": {},
    "version_major": 2,
    "version_minor": 0
   }
  }
 },
 "nbformat": 4,
 "nbformat_minor": 5
}
